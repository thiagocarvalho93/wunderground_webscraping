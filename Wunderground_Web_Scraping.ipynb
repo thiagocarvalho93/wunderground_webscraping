{
  "nbformat": 4,
  "nbformat_minor": 0,
  "metadata": {
    "colab": {
      "name": "Wunderground Web Scraping.ipynb",
      "provenance": [],
      "collapsed_sections": [],
      "mount_file_id": "1nM2lkhNt5W7Y6CxC24E6BUieoN3cYCaE",
      "authorship_tag": "ABX9TyOInTDvSZLFk6ErMoCUSN0T",
      "include_colab_link": true
    },
    "kernelspec": {
      "display_name": "Python 3",
      "name": "python3"
    },
    "language_info": {
      "name": "python"
    }
  },
  "cells": [
    {
      "cell_type": "markdown",
      "metadata": {
        "id": "view-in-github",
        "colab_type": "text"
      },
      "source": [
        "<a href=\"https://colab.research.google.com/github/thiagocarvalho93/wunderground_webscraping/blob/main/Wunderground_Web_Scraping.ipynb\" target=\"_parent\"><img src=\"https://colab.research.google.com/assets/colab-badge.svg\" alt=\"Open In Colab\"/></a>"
      ]
    },
    {
      "cell_type": "code",
      "metadata": {
        "id": "GiBtmBD-QeEF"
      },
      "source": [
        "#@title Bibliotecas\n",
        "# Instalação das bibliotecas necessárias\n",
        "!pip install --upgrade gspread\n",
        "# Importa os packages\n",
        "import requests\n",
        "import pandas as pd\n",
        "from bs4 import BeautifulSoup\n",
        "from datetime import datetime, timedelta, timezone\n",
        "import time\n",
        "import re\n",
        "from dateutil.relativedelta import relativedelta"
      ],
      "execution_count": null,
      "outputs": []
    },
    {
      "cell_type": "code",
      "source": [
        "#@title Função: Estação e data -> Dataframe do Pandas - Diário\n",
        "link_base = 'https://www.wunderground.com/dashboard/pws/'\n",
        "\n",
        "def to_dataframe(estacao, date):\n",
        "  url= link_base + estacao + '/table/' + date + '/' + date  + '/daily'\n",
        "  # Cria uma variável contendo o conteúdo da página\n",
        "  page = requests.get(url)\n",
        "  # Interpreta os dados com o BeautifulSoup\n",
        "  soup = BeautifulSoup(page.text, 'html.parser')\n",
        "\n",
        "  # Procura a tabela correta no html\n",
        "  table = soup.find('table',class_='history-table desktop-table')\n",
        "  # Usa o Pandas pra ler a tabela html\n",
        "  df = pd.read_html(str(table))[0]\n",
        "  df = df.dropna(how='all')\n",
        "\n",
        "  # Tira as strings das unidades para converter para numérico\n",
        "  df2 = df.replace({'°F': ''}, regex=True)\n",
        "  df2 = df2.replace({'°%': ''}, regex=True)\n",
        "  df2 = df2.replace({'°mph': ''}, regex=True)\n",
        "  df2 = df2.replace({'°in': ''}, regex=True)\n",
        "  df2 = df2.replace({'w/m²': ''}, regex=True)\n",
        "  cols = df2.columns.drop(['Time','Wind','UV']) # Colunas numéricas\n",
        "  # Tira os espaços em branco\n",
        "  for col in cols:\n",
        "    df2[col]  = df2[col].str.strip()\n",
        "  # Converte para numérico\n",
        "  df2[cols] = df2[cols].apply(pd.to_numeric)\n",
        "\n",
        "  # Farenheit para Celsius\n",
        "  f = lambda x: (x - 32) * 5/9\n",
        "  df2[['Temperature',\t'Dew Point']] = df2[['Temperature',\t'Dew Point']].applymap(f).round(1)\n",
        "  # mph para km/h:\n",
        "  g = lambda x: x* 1.60934\n",
        "  df2[['Speed','Gust']] = df2[['Speed','Gust']].applymap(g).round(1)\n",
        "  # Identifica a estação na tabela\n",
        "  df2['Estação'] = estacao\n",
        "\n",
        "  # Converte o horário para o formato ISO8601\n",
        "  date = datetime.strptime(date, \"%Y-%m-%d\")\n",
        "  x = pd.to_datetime(df2['Time']).apply(lambda dt: dt.replace(day=date.day, month=date.month, year=date.year))\n",
        "  df2['ISO8601'] = x.dt.strftime('%Y-%m-%dT%H:%M:%SZ')\n",
        "\n",
        "  # Preenche os valores NaN com 0 \n",
        "  # (p/ evitar erro na hora de exportar para o sheets)\n",
        "  df2 = df2.fillna(0)\n",
        "\n",
        "  return df2"
      ],
      "metadata": {
        "cellView": "form",
        "id": "rHNQqCVvB9LY"
      },
      "execution_count": 32,
      "outputs": []
    },
    {
      "cell_type": "code",
      "metadata": {
        "id": "jJbqBCWZQOZp",
        "colab": {
          "base_uri": "https://localhost:8080/"
        },
        "outputId": "400c8a62-b936-433e-8f33-0dd1c913ecb2",
        "cellView": "form"
      },
      "source": [
        "#@title Aquisição dos dados\n",
        "\n",
        "# Definindo a data de ontem\n",
        "# Fuso horário\n",
        "timezone_offset = -3.0\n",
        "tzinfo = timezone(timedelta(hours = timezone_offset))\n",
        "# Ontem no formato usado no link:\n",
        "ontem = (datetime.now(tzinfo) - relativedelta(days=1)).strftime(\"%Y-%m-%d\")\n",
        "\n",
        "df = pd.DataFrame()\n",
        "\n",
        "# Definindo as estações\n",
        "#@markdown Insira aqui o código das estações\n",
        "stations = ['IMACA7', 'IMACA13', 'ICAMPO96', 'IMACA15', 'IRIODA1','IRJSANTA2']\n",
        "# Definindo a data\n",
        "date = ontem #@markdown Insira a data desejada aqui - no formato AAAA-MM-DD\n",
        "\n",
        "\n",
        "# Aplicando as funções e coletando os dados \n",
        "for station in stations:\n",
        "  print(station)\n",
        "  df_temp = to_dataframe(station,date)\n",
        "  df = df.append(df_temp)\n",
        "\n",
        "# Converte as colunas selecionadas em Float\n",
        "\n",
        "print(df)\n"
      ],
      "execution_count": 33,
      "outputs": [
        {
          "output_type": "stream",
          "name": "stdout",
          "text": [
            "IMACA7\n",
            "IMACA13\n",
            "ICAMPO96\n",
            "IMACA15\n",
            "IRIODA1\n",
            "IRJSANTA2\n",
            "         Time  Temperature  Dew Point  ...  Solar    Estação               ISO8601\n",
            "1    12:04 AM         25.5       23.7  ...    0.0     IMACA7  2021-12-15T00:04:00Z\n",
            "2    12:09 AM         25.5       23.8  ...    0.0     IMACA7  2021-12-15T00:09:00Z\n",
            "3    12:14 AM         25.5       24.0  ...    0.0     IMACA7  2021-12-15T00:14:00Z\n",
            "4    12:19 AM         25.4       23.9  ...    0.0     IMACA7  2021-12-15T00:19:00Z\n",
            "5    12:24 AM         25.4       23.9  ...    0.0     IMACA7  2021-12-15T00:24:00Z\n",
            "..        ...          ...        ...  ...    ...        ...                   ...\n",
            "284  11:39 PM         27.2       22.8  ...    0.0  IRJSANTA2  2021-12-15T23:39:00Z\n",
            "285  11:44 PM         27.3       22.8  ...    0.0  IRJSANTA2  2021-12-15T23:44:00Z\n",
            "286  11:49 PM         27.3       22.8  ...    0.0  IRJSANTA2  2021-12-15T23:49:00Z\n",
            "287  11:54 PM         27.2       22.9  ...    0.0  IRJSANTA2  2021-12-15T23:54:00Z\n",
            "288  11:59 PM         27.2       22.8  ...    0.0  IRJSANTA2  2021-12-15T23:59:00Z\n",
            "\n",
            "[1570 rows x 14 columns]\n"
          ]
        }
      ]
    },
    {
      "cell_type": "code",
      "metadata": {
        "id": "gH05vSKyVbJM",
        "cellView": "form",
        "colab": {
          "base_uri": "https://localhost:8080/"
        },
        "outputId": "bf8edaed-a638-49f9-ef84-64a2093793dd"
      },
      "source": [
        "#@title Passar dados para o Google Sheets\n",
        "# Credenciamento\n",
        "from google.colab import auth\n",
        "auth.authenticate_user()\n",
        "import gspread\n",
        "from oauth2client.client import GoogleCredentials\n",
        "\n",
        "gc = gspread.authorize(GoogleCredentials.get_application_default())\n",
        "\n",
        "# Abre a planilha e atualiza os dados\n",
        "worksheet = gc.open('Dados Meteorológicos Macaé').sheet1\n",
        "worksheet.update([df.columns.values.tolist()] + df.values.tolist())\n"
      ],
      "execution_count": 35,
      "outputs": [
        {
          "output_type": "execute_result",
          "data": {
            "text/plain": [
              "{'spreadsheetId': '1kNvvyPPyiXJcGYKgNfjlRgAhB-IsE74TrEzpsPDB9Lg',\n",
              " 'updatedCells': 21994,\n",
              " 'updatedColumns': 14,\n",
              " 'updatedRange': \"'Página1'!A1:N1571\",\n",
              " 'updatedRows': 1571}"
            ]
          },
          "metadata": {},
          "execution_count": 35
        }
      ]
    }
  ]
}